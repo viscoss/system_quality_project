{
  "nbformat": 4,
  "nbformat_minor": 0,
  "metadata": {
    "colab": {
      "name": "Untitled0.ipynb",
      "provenance": [],
      "collapsed_sections": [],
      "mount_file_id": "1ZVbrBlk1Wen-ESJl0oMldB_qGa0WFMEr",
      "authorship_tag": "ABX9TyPlvTp0yVhgXTli4SEyGfdn",
      "include_colab_link": true
    },
    "kernelspec": {
      "name": "python3",
      "display_name": "Python 3"
    },
    "language_info": {
      "name": "python"
    }
  },
  "cells": [
    {
      "cell_type": "markdown",
      "metadata": {
        "id": "view-in-github",
        "colab_type": "text"
      },
      "source": [
        "<a href=\"https://colab.research.google.com/github/viscoss/system_quality_project/blob/PJY/notebooks/Untitled0.ipynb\" target=\"_parent\"><img src=\"https://colab.research.google.com/assets/colab-badge.svg\" alt=\"Open In Colab\"/></a>"
      ]
    },
    {
      "cell_type": "code",
      "execution_count": 16,
      "metadata": {
        "id": "nOeQKbz7pSS-"
      },
      "outputs": [],
      "source": [
        "import pandas as pd\n",
        "import matplotlib.pyplot as plt\n",
        "import os\n",
        "import seaborn as sns\n",
        "import numpy as np"
      ]
    },
    {
      "cell_type": "code",
      "source": [
        "import warnings\n",
        "warnings.filterwarnings(action='ignore')"
      ],
      "metadata": {
        "id": "RShm4zPjppe3"
      },
      "execution_count": 18,
      "outputs": []
    },
    {
      "cell_type": "code",
      "source": [
        "train_err = pd.read_csv('/content/drive/MyDrive/Colab Notebooks/235687_시스템 품질 변화로 인한 사용자 불편 예지 AI 경진대회_data/train_err_data.csv')\n",
        "train_qual = pd.read_csv('/content/drive/MyDrive/Colab Notebooks/235687_시스템 품질 변화로 인한 사용자 불편 예지 AI 경진대회_data/train_quality_data.csv')\n",
        "train_prob = pd.read_csv('/content/drive/MyDrive/Colab Notebooks/235687_시스템 품질 변화로 인한 사용자 불편 예지 AI 경진대회_data/train_problem_data.csv')"
      ],
      "metadata": {
        "id": "iSWgi7frpput"
      },
      "execution_count": 17,
      "outputs": []
    },
    {
      "cell_type": "code",
      "source": [
        "test_err = pd.read_csv('/content/drive/MyDrive/Colab Notebooks/235687_시스템 품질 변화로 인한 사용자 불편 예지 AI 경진대회_data/test_err_data.csv')\n",
        "test_qual = pd.read_csv('/content/drive/MyDrive/Colab Notebooks/235687_시스템 품질 변화로 인한 사용자 불편 예지 AI 경진대회_data/test_quality_data.csv')"
      ],
      "metadata": {
        "id": "9pNGjzjCr0m0"
      },
      "execution_count": 20,
      "outputs": []
    },
    {
      "cell_type": "code",
      "source": [
        "train_err.info()"
      ],
      "metadata": {
        "colab": {
          "base_uri": "https://localhost:8080/"
        },
        "id": "6-GjHkzezVcC",
        "outputId": "bae897d2-47c9-4120-dc6e-debe78ffc696"
      },
      "execution_count": null,
      "outputs": [
        {
          "output_type": "stream",
          "name": "stdout",
          "text": [
            "<class 'pandas.core.frame.DataFrame'>\n",
            "RangeIndex: 16554663 entries, 0 to 16554662\n",
            "Data columns (total 6 columns):\n",
            " #   Column    Dtype \n",
            "---  ------    ----- \n",
            " 0   user_id   int64 \n",
            " 1   time      int64 \n",
            " 2   model_nm  object\n",
            " 3   fwver     object\n",
            " 4   errtype   int64 \n",
            " 5   errcode   object\n",
            "dtypes: int64(3), object(3)\n",
            "memory usage: 757.8+ MB\n"
          ]
        }
      ]
    },
    {
      "cell_type": "code",
      "source": [
        "corr = train_qual.corr()\n",
        "cmap = sns.color_palette(\"Blues\")\n",
        "f, ax = plt.subplots(figsize=(10, 7))\n",
        "sns.heatmap(corr, cmap=cmap)"
      ],
      "metadata": {
        "colab": {
          "base_uri": "https://localhost:8080/",
          "height": 493
        },
        "id": "DSm6vsfpK3Dn",
        "outputId": "3464045f-daab-4983-ff25-8d928e5d52d1"
      },
      "execution_count": 19,
      "outputs": [
        {
          "output_type": "execute_result",
          "data": {
            "text/plain": [
              "<matplotlib.axes._subplots.AxesSubplot at 0x7f23365646d0>"
            ]
          },
          "metadata": {},
          "execution_count": 19
        },
        {
          "output_type": "display_data",
          "data": {
            "text/plain": [
              "<Figure size 720x504 with 2 Axes>"
            ],
            "image/png": "[encoded data removed]"
          },
          "metadata": {
            "needs_background": "light"
          }
        }
      ]
    },
    {
      "cell_type": "code",
      "source": [
        "fig = plt.figure(figsize=(18,9))\n",
        "plt.subplots_adjust(hspace=.5)\n",
        "\n",
        "plt.subplot2grid((3,3), (0,0), colspan = 3)\n",
        "train_qual['time'].value_counts()[:100].plot(kind='bar', alpha=0.7)\n",
        "plt.title('type Values in the Training Set - train ()')"
      ],
      "metadata": {
        "id": "inxbomYVLCm5",
        "outputId": "5e49ef3f-ae54-4511-ff46-a8c5831ac0a4",
        "colab": {
          "base_uri": "https://localhost:8080/",
          "height": 283
        }
      },
      "execution_count": null,
      "outputs": [
        {
          "output_type": "execute_result",
          "data": {
            "text/plain": [
              "Text(0.5, 1.0, 'type Values in the Training Set - train ()')"
            ]
          },
          "metadata": {},
          "execution_count": 15
        },
        {
          "output_type": "display_data",
          "data": {
            "text/plain": [
              "<Figure size 1296x648 with 1 Axes>"
            ],
            "image/png": "[encoded data removed]"
          },
          "metadata": {
            "needs_background": "light"
          }
        }
      ]
    },
    {
      "cell_type": "code",
      "source": [
        "print(train_err.columns)"
      ],
      "metadata": {
        "colab": {
          "base_uri": "https://localhost:8080/"
        },
        "id": "NfpOj2gNr0pD",
        "outputId": "c78683e5-4395-4b65-eaa3-9f1ffed44e25"
      },
      "execution_count": null,
      "outputs": [
        {
          "output_type": "stream",
          "name": "stdout",
          "text": [
            "Index(['user_id', 'time', 'model_nm', 'fwver', 'errtype', 'errcode'], dtype='object')\n"
          ]
        }
      ]
    },
    {
      "cell_type": "code",
      "source": [
        "print(train_qual.columns)"
      ],
      "metadata": {
        "colab": {
          "base_uri": "https://localhost:8080/"
        },
        "id": "4LL3Uhvxr0rZ",
        "outputId": "9d98e216-74d2-4e59-bbac-241a8e3a85ba"
      },
      "execution_count": null,
      "outputs": [
        {
          "output_type": "stream",
          "name": "stdout",
          "text": [
            "Index(['time', 'user_id', 'fwver', 'quality_0', 'quality_1', 'quality_2',\n",
            "       'quality_3', 'quality_4', 'quality_5', 'quality_6', 'quality_7',\n",
            "       'quality_8', 'quality_9', 'quality_10', 'quality_11', 'quality_12'],\n",
            "      dtype='object')\n"
          ]
        }
      ]
    },
    {
      "cell_type": "code",
      "source": [
        "print(train_prob.columns)"
      ],
      "metadata": {
        "colab": {
          "base_uri": "https://localhost:8080/"
        },
        "id": "ae4Laoq-r0uR",
        "outputId": "a9ade22b-dc86-46c8-d6b5-bc3f1418bc83"
      },
      "execution_count": null,
      "outputs": [
        {
          "output_type": "stream",
          "name": "stdout",
          "text": [
            "Index(['user_id', 'time'], dtype='object')\n"
          ]
        }
      ]
    },
    {
      "cell_type": "code",
      "source": [
        "train_err.head()"
      ],
      "metadata": {
        "colab": {
          "base_uri": "https://localhost:8080/",
          "height": 206
        },
        "id": "FLcer_intqs1",
        "outputId": "deee6aca-c6c4-4a30-c1a6-30c86d90b9db"
      },
      "execution_count": null,
      "outputs": [
        {
          "output_type": "execute_result",
          "data": {
            "text/plain": [
              "   user_id            time model_nm       fwver  errtype errcode\n",
              "0    10000  20201101025616  model_3  05.15.2138       15       1\n",
              "1    10000  20201101030309  model_3  05.15.2138       12       1\n",
              "2    10000  20201101030309  model_3  05.15.2138       11       1\n",
              "3    10000  20201101050514  model_3  05.15.2138       16       1\n",
              "4    10000  20201101050515  model_3  05.15.2138        4       0"
            ],
            "text/html": [
              "\n",
              "  <div id=\"df-7cb49668-3de2-4a6b-b254-5afbbc2d4da0\">\n",
              "    <div class=\"colab-df-container\">\n",
              "      <div>\n",
              "<style scoped>\n",
              "    .dataframe tbody tr th:only-of-type {\n",
              "        vertical-align: middle;\n",
              "    }\n",
              "\n",
              "    .dataframe tbody tr th {\n",
              "        vertical-align: top;\n",
              "    }\n",
              "\n",
              "    .dataframe thead th {\n",
              "        text-align: right;\n",
              "    }\n",
              "</style>\n",
              "<table border=\"1\" class=\"dataframe\">\n",
              "  <thead>\n",
              "    <tr style=\"text-align: right;\">\n",
              "      <th></th>\n",
              "      <th>user_id</th>\n",
              "      <th>time</th>\n",
              "      <th>model_nm</th>\n",
              "      <th>fwver</th>\n",
              "      <th>errtype</th>\n",
              "      <th>errcode</th>\n",
              "    </tr>\n",
              "  </thead>\n",
              "  <tbody>\n",
              "    <tr>\n",
              "      <th>0</th>\n",
              "      <td>10000</td>\n",
              "      <td>20201101025616</td>\n",
              "      <td>model_3</td>\n",
              "      <td>05.15.2138</td>\n",
              "      <td>15</td>\n",
              "      <td>1</td>\n",
              "    </tr>\n",
              "    <tr>\n",
              "      <th>1</th>\n",
              "      <td>10000</td>\n",
              "      <td>20201101030309</td>\n",
              "      <td>model_3</td>\n",
              "      <td>05.15.2138</td>\n",
              "      <td>12</td>\n",
              "      <td>1</td>\n",
              "    </tr>\n",
              "    <tr>\n",
              "      <th>2</th>\n",
              "      <td>10000</td>\n",
              "      <td>20201101030309</td>\n",
              "      <td>model_3</td>\n",
              "      <td>05.15.2138</td>\n",
              "      <td>11</td>\n",
              "      <td>1</td>\n",
              "    </tr>\n",
              "    <tr>\n",
              "      <th>3</th>\n",
              "      <td>10000</td>\n",
              "      <td>20201101050514</td>\n",
              "      <td>model_3</td>\n",
              "      <td>05.15.2138</td>\n",
              "      <td>16</td>\n",
              "      <td>1</td>\n",
              "    </tr>\n",
              "    <tr>\n",
              "      <th>4</th>\n",
              "      <td>10000</td>\n",
              "      <td>20201101050515</td>\n",
              "      <td>model_3</td>\n",
              "      <td>05.15.2138</td>\n",
              "      <td>4</td>\n",
              "      <td>0</td>\n",
              "    </tr>\n",
              "  </tbody>\n",
              "</table>\n",
              "</div>\n",
              "      <button class=\"colab-df-convert\" onclick=\"convertToInteractive('df-7cb49668-3de2-4a6b-b254-5afbbc2d4da0')\"\n",
              "              title=\"Convert this dataframe to an interactive table.\"\n",
              "              style=\"display:none;\">\n",
              "        \n",
              "  <svg xmlns=\"http://www.w3.org/2000/svg\" height=\"24px\"viewBox=\"0 0 24 24\"\n",
              "       width=\"24px\">\n",
              "    <path d=\"M0 0h24v24H0V0z\" fill=\"none\"/>\n",
              "    <path d=\"M18.56 5.44l.94 2.06.94-2.06 2.06-.94-2.06-.94-.94-2.06-.94 2.06-2.06.94zm-11 1L8.5 8.5l.94-2.06 2.06-.94-2.06-.94L8.5 2.5l-.94 2.06-2.06.94zm10 10l.94 2.06.94-2.06 2.06-.94-2.06-.94-.94-2.06-.94 2.06-2.06.94z\"/><path d=\"M17.41 7.96l-1.37-1.37c-.4-.4-.92-.59-1.43-.59-.52 0-1.04.2-1.43.59L10.3 9.45l-7.72 7.72c-.78.78-.78 2.05 0 2.83L4 21.41c.39.39.9.59 1.41.59.51 0 1.02-.2 1.41-.59l7.78-7.78 2.81-2.81c.8-.78.8-2.07 0-2.86zM5.41 20L4 18.59l7.72-7.72 1.47 1.35L5.41 20z\"/>\n",
              "  </svg>\n",
              "      </button>\n",
              "      \n",
              "  <style>\n",
              "    .colab-df-container {\n",
              "      display:flex;\n",
              "      flex-wrap:wrap;\n",
              "      gap: 12px;\n",
              "    }\n",
              "\n",
              "    .colab-df-convert {\n",
              "      background-color: #E8F0FE;\n",
              "      border: none;\n",
              "      border-radius: 50%;\n",
              "      cursor: pointer;\n",
              "      display: none;\n",
              "      fill: #1967D2;\n",
              "      height: 32px;\n",
              "      padding: 0 0 0 0;\n",
              "      width: 32px;\n",
              "    }\n",
              "\n",
              "    .colab-df-convert:hover {\n",
              "      background-color: #E2EBFA;\n",
              "      box-shadow: 0px 1px 2px rgba(60, 64, 67, 0.3), 0px 1px 3px 1px rgba(60, 64, 67, 0.15);\n",
              "      fill: #174EA6;\n",
              "    }\n",
              "\n",
              "    [theme=dark] .colab-df-convert {\n",
              "      background-color: #3B4455;\n",
              "      fill: #D2E3FC;\n",
              "    }\n",
              "\n",
              "    [theme=dark] .colab-df-convert:hover {\n",
              "      background-color: #434B5C;\n",
              "      box-shadow: 0px 1px 3px 1px rgba(0, 0, 0, 0.15);\n",
              "      filter: drop-shadow(0px 1px 2px rgba(0, 0, 0, 0.3));\n",
              "      fill: #FFFFFF;\n",
              "    }\n",
              "  </style>\n",
              "\n",
              "      <script>\n",
              "        const buttonEl =\n",
              "          document.querySelector('#df-7cb49668-3de2-4a6b-b254-5afbbc2d4da0 button.colab-df-convert');\n",
              "        buttonEl.style.display =\n",
              "          google.colab.kernel.accessAllowed ? 'block' : 'none';\n",
              "\n",
              "        async function convertToInteractive(key) {\n",
              "          const element = document.querySelector('#df-7cb49668-3de2-4a6b-b254-5afbbc2d4da0');\n",
              "          const dataTable =\n",
              "            await google.colab.kernel.invokeFunction('convertToInteractive',\n",
              "                                                     [key], {});\n",
              "          if (!dataTable) return;\n",
              "\n",
              "          const docLinkHtml = 'Like what you see? Visit the ' +\n",
              "            '<a target=\"_blank\" href=https://colab.research.google.com/notebooks/data_table.ipynb>data table notebook</a>'\n",
              "            + ' to learn more about interactive tables.';\n",
              "          element.innerHTML = '';\n",
              "          dataTable['output_type'] = 'display_data';\n",
              "          await google.colab.output.renderOutput(dataTable, element);\n",
              "          const docLink = document.createElement('div');\n",
              "          docLink.innerHTML = docLinkHtml;\n",
              "          element.appendChild(docLink);\n",
              "        }\n",
              "      </script>\n",
              "    </div>\n",
              "  </div>\n",
              "  "
            ]
          },
          "metadata": {},
          "execution_count": 11
        }
      ]
    },
    {
      "cell_type": "code",
      "source": [
        "train_err.info()"
      ],
      "metadata": {
        "colab": {
          "base_uri": "https://localhost:8080/"
        },
        "id": "DAbniJ-Htqxs",
        "outputId": "4e1284d5-fe18-4803-cd47-10f8fd5679a8"
      },
      "execution_count": null,
      "outputs": [
        {
          "output_type": "stream",
          "name": "stdout",
          "text": [
            "<class 'pandas.core.frame.DataFrame'>\n",
            "RangeIndex: 16554663 entries, 0 to 16554662\n",
            "Data columns (total 6 columns):\n",
            " #   Column    Dtype \n",
            "---  ------    ----- \n",
            " 0   user_id   int64 \n",
            " 1   time      int64 \n",
            " 2   model_nm  object\n",
            " 3   fwver     object\n",
            " 4   errtype   int64 \n",
            " 5   errcode   object\n",
            "dtypes: int64(3), object(3)\n",
            "memory usage: 757.8+ MB\n"
          ]
        }
      ]
    },
    {
      "cell_type": "code",
      "source": [
        "train_err.isnull().sum()\n",
        "#errcode 결측치1. 제거? 변환? 중간값? "
      ],
      "metadata": {
        "colab": {
          "base_uri": "https://localhost:8080/"
        },
        "id": "lXc-eo88tq1v",
        "outputId": "b06680a1-5abb-4b65-fbbd-506519288bb5"
      },
      "execution_count": null,
      "outputs": [
        {
          "output_type": "execute_result",
          "data": {
            "text/plain": [
              "user_id     0\n",
              "time        0\n",
              "model_nm    0\n",
              "fwver       0\n",
              "errtype     0\n",
              "errcode     1\n",
              "dtype: int64"
            ]
          },
          "metadata": {},
          "execution_count": 36
        }
      ]
    },
    {
      "cell_type": "code",
      "source": [
        "train_qual.isnull().sum()"
      ],
      "metadata": {
        "colab": {
          "base_uri": "https://localhost:8080/"
        },
        "id": "iGlA-n99GEkF",
        "outputId": "e26ee2ca-537d-488f-8bde-83213f1b38ff"
      },
      "execution_count": null,
      "outputs": [
        {
          "output_type": "execute_result",
          "data": {
            "text/plain": [
              "time               0\n",
              "user_id            0\n",
              "fwver          40080\n",
              "quality_0     144432\n",
              "quality_1          0\n",
              "quality_2      40113\n",
              "quality_3          0\n",
              "quality_4          0\n",
              "quality_5         20\n",
              "quality_6          0\n",
              "quality_7          0\n",
              "quality_8          0\n",
              "quality_9          0\n",
              "quality_10         0\n",
              "quality_11         0\n",
              "quality_12         0\n",
              "dtype: int64"
            ]
          },
          "metadata": {},
          "execution_count": 63
        }
      ]
    },
    {
      "cell_type": "code",
      "source": [
        "train_qual.info()"
      ],
      "metadata": {
        "colab": {
          "base_uri": "https://localhost:8080/"
        },
        "id": "WwUs0F6KGR48",
        "outputId": "baf7e03d-a225-4133-d000-1619d76a8bcd"
      },
      "execution_count": null,
      "outputs": [
        {
          "output_type": "stream",
          "name": "stdout",
          "text": [
            "<class 'pandas.core.frame.DataFrame'>\n",
            "RangeIndex: 828624 entries, 0 to 828623\n",
            "Data columns (total 16 columns):\n",
            " #   Column      Non-Null Count   Dtype  \n",
            "---  ------      --------------   -----  \n",
            " 0   time        828624 non-null  int64  \n",
            " 1   user_id     828624 non-null  int64  \n",
            " 2   fwver       788544 non-null  object \n",
            " 3   quality_0   684192 non-null  float64\n",
            " 4   quality_1   828624 non-null  int64  \n",
            " 5   quality_2   788511 non-null  float64\n",
            " 6   quality_3   828624 non-null  int64  \n",
            " 7   quality_4   828624 non-null  int64  \n",
            " 8   quality_5   828604 non-null  object \n",
            " 9   quality_6   828624 non-null  int64  \n",
            " 10  quality_7   828624 non-null  object \n",
            " 11  quality_8   828624 non-null  object \n",
            " 12  quality_9   828624 non-null  object \n",
            " 13  quality_10  828624 non-null  object \n",
            " 14  quality_11  828624 non-null  int64  \n",
            " 15  quality_12  828624 non-null  int64  \n",
            "dtypes: float64(2), int64(8), object(6)\n",
            "memory usage: 101.2+ MB\n"
          ]
        }
      ]
    },
    {
      "cell_type": "code",
      "source": [
        "train_prob.isnull().sum()"
      ],
      "metadata": {
        "colab": {
          "base_uri": "https://localhost:8080/"
        },
        "id": "csg2NJGKGK4f",
        "outputId": "5e2d0d08-441a-43df-e489-a88089fd3561"
      },
      "execution_count": null,
      "outputs": [
        {
          "output_type": "execute_result",
          "data": {
            "text/plain": [
              "user_id    0\n",
              "time       0\n",
              "dtype: int64"
            ]
          },
          "metadata": {},
          "execution_count": 64
        }
      ]
    },
    {
      "cell_type": "code",
      "source": [
        "train_err['errcode'].value_counts()"
      ],
      "metadata": {
        "colab": {
          "base_uri": "https://localhost:8080/"
        },
        "id": "L1_JuqS28LEm",
        "outputId": "3ee44373-b2de-463e-865c-923ff41455b1"
      },
      "execution_count": null,
      "outputs": [
        {
          "output_type": "execute_result",
          "data": {
            "text/plain": [
              "1                     8906967\n",
              "0                     2599123\n",
              "connection timeout    1835600\n",
              "B-A8002                897863\n",
              "80                     334018\n",
              "                       ...   \n",
              "4329                        1\n",
              "3765                        1\n",
              "4105                        1\n",
              "5779                        1\n",
              "25999                       1\n",
              "Name: errcode, Length: 2805, dtype: int64"
            ]
          },
          "metadata": {},
          "execution_count": 61
        }
      ]
    },
    {
      "cell_type": "code",
      "source": [
        "train_qual['fwver'].value_counts()"
      ],
      "metadata": {
        "colab": {
          "base_uri": "https://localhost:8080/"
        },
        "id": "d-IY6wZpGdsp",
        "outputId": "1c5e68af-9ccc-4e4b-e4c4-579823301b0f"
      },
      "execution_count": null,
      "outputs": [
        {
          "output_type": "execute_result",
          "data": {
            "text/plain": [
              "05.15.2138    163236\n",
              "04.22.1750    142032\n",
              "04.33.1261    131340\n",
              "04.16.3553    111996\n",
              "03.11.1167    104148\n",
              "04.33.1185     66024\n",
              "04.22.1778     56472\n",
              "04.22.1684      3420\n",
              "09.17.1431      3384\n",
              "04.16.3571      2232\n",
              "04.82.1684      1044\n",
              "04.33.1149       804\n",
              "04.22.1666       636\n",
              "05.66.3237       552\n",
              "04.82.1778       216\n",
              "03.11.1149       204\n",
              "04.73.2237       192\n",
              "04.33.1125       144\n",
              "05.66.3571        96\n",
              "05.15.2114        96\n",
              "05.15.2120        84\n",
              "04.22.1442        84\n",
              "05.15.2122        60\n",
              "04.22.1656        12\n",
              "04.16.3439        12\n",
              "04.73.2571        12\n",
              "04.16.3345        12\n",
              "Name: fwver, dtype: int64"
            ]
          },
          "metadata": {},
          "execution_count": 70
        }
      ]
    },
    {
      "cell_type": "code",
      "source": [
        "train_qual.isnull().sum()"
      ],
      "metadata": {
        "colab": {
          "base_uri": "https://localhost:8080/"
        },
        "id": "Zz749aKptq90",
        "outputId": "48359927-92d7-4f03-920c-90e0415169c4"
      },
      "execution_count": null,
      "outputs": [
        {
          "output_type": "execute_result",
          "data": {
            "text/plain": [
              "time               0\n",
              "user_id            0\n",
              "fwver          40080\n",
              "quality_0     144432\n",
              "quality_1          0\n",
              "quality_2      40113\n",
              "quality_3          0\n",
              "quality_4          0\n",
              "quality_5         20\n",
              "quality_6          0\n",
              "quality_7          0\n",
              "quality_8          0\n",
              "quality_9          0\n",
              "quality_10         0\n",
              "quality_11         0\n",
              "quality_12         0\n",
              "dtype: int64"
            ]
          },
          "metadata": {},
          "execution_count": 40
        }
      ]
    },
    {
      "cell_type": "code",
      "source": [
        "train_prob.isnull().sum() \n",
        "#결측치 0 "
      ],
      "metadata": {
        "colab": {
          "base_uri": "https://localhost:8080/"
        },
        "id": "PYFLAkqVtrBj",
        "outputId": "84e29657-f8e1-42e3-ac5e-c52ed600ae6f"
      },
      "execution_count": null,
      "outputs": [
        {
          "output_type": "execute_result",
          "data": {
            "text/plain": [
              "user_id    0\n",
              "time       0\n",
              "dtype: int64"
            ]
          },
          "metadata": {},
          "execution_count": 42
        }
      ]
    },
    {
      "cell_type": "code",
      "source": [
        "sns.set(rc={'figure.figsize':(15,5)})\n",
        "plt.figure(figsize=(10,10))\n",
        "sns.heatmap(data=train_err.corr(),square=True,cmap=\"Blues\",annot=True)"
      ],
      "metadata": {
        "colab": {
          "base_uri": "https://localhost:8080/",
          "height": 597
        },
        "id": "PwvXrTz6trE2",
        "outputId": "2ea99505-e26b-4f47-c5e5-9c0e0b903d40"
      },
      "execution_count": null,
      "outputs": [
        {
          "output_type": "execute_result",
          "data": {
            "text/plain": [
              "<matplotlib.axes._subplots.AxesSubplot at 0x7f561ea82410>"
            ]
          },
          "metadata": {},
          "execution_count": 48
        },
        {
          "output_type": "display_data",
          "data": {
            "text/plain": [
              "<Figure size 720x720 with 2 Axes>"
            ],
            "image/png": "[encoded data removed]"
          },
          "metadata": {}
        }
      ]
    },
    {
      "cell_type": "code",
      "source": [
        ""
      ],
      "metadata": {
        "id": "i94EIbp0trIL"
      },
      "execution_count": null,
      "outputs": []
    },
    {
      "cell_type": "code",
      "source": [
        ""
      ],
      "metadata": {
        "id": "79k5mI4XtrLM"
      },
      "execution_count": null,
      "outputs": []
    },
    {
      "cell_type": "code",
      "source": [
        ""
      ],
      "metadata": {
        "id": "GSUH8NjYtrN0"
      },
      "execution_count": null,
      "outputs": []
    },
    {
      "cell_type": "code",
      "source": [
        "train_qual.info()"
      ],
      "metadata": {
        "colab": {
          "base_uri": "https://localhost:8080/"
        },
        "id": "Oqa-btO6rm6l",
        "outputId": "0836b266-115f-4da3-cc7f-4e9b041cae8b"
      },
      "execution_count": null,
      "outputs": [
        {
          "output_type": "stream",
          "name": "stdout",
          "text": [
            "<class 'pandas.core.frame.DataFrame'>\n",
            "RangeIndex: 828624 entries, 0 to 828623\n",
            "Data columns (total 16 columns):\n",
            " #   Column      Non-Null Count   Dtype  \n",
            "---  ------      --------------   -----  \n",
            " 0   time        828624 non-null  int64  \n",
            " 1   user_id     828624 non-null  int64  \n",
            " 2   fwver       788544 non-null  object \n",
            " 3   quality_0   684192 non-null  float64\n",
            " 4   quality_1   828624 non-null  int64  \n",
            " 5   quality_2   788511 non-null  float64\n",
            " 6   quality_3   828624 non-null  int64  \n",
            " 7   quality_4   828624 non-null  int64  \n",
            " 8   quality_5   828604 non-null  object \n",
            " 9   quality_6   828624 non-null  int64  \n",
            " 10  quality_7   828624 non-null  object \n",
            " 11  quality_8   828624 non-null  object \n",
            " 12  quality_9   828624 non-null  object \n",
            " 13  quality_10  828624 non-null  object \n",
            " 14  quality_11  828624 non-null  int64  \n",
            " 15  quality_12  828624 non-null  int64  \n",
            "dtypes: float64(2), int64(8), object(6)\n",
            "memory usage: 101.2+ MB\n"
          ]
        }
      ]
    },
    {
      "cell_type": "code",
      "source": [
        "train_prob.head(50)"
      ],
      "metadata": {
        "colab": {
          "base_uri": "https://localhost:8080/",
          "height": 1000
        },
        "id": "1fLtNUF-rozL",
        "outputId": "f7ecf685-9bb9-428d-8b86-eaf45aff8df2"
      },
      "execution_count": null,
      "outputs": [
        {
          "output_type": "execute_result",
          "data": {
            "text/plain": [
              "    user_id            time\n",
              "0     19224  20201102200000\n",
              "1     23664  20201116140000\n",
              "2     15166  20201114130000\n",
              "3     12590  20201108210000\n",
              "4     15932  20201103210000\n",
              "5     16852  20201119150000\n",
              "6     23427  20201121110000\n",
              "7     13507  20201111160000\n",
              "8     11274  20201118120000\n",
              "9     20610  20201127230000\n",
              "10    21418  20201117120000\n",
              "11    19026  20201129110000\n",
              "12    23843  20201119180000\n",
              "13    16996  20201112150000\n",
              "14    17804  20201116150000\n",
              "15    13310  20201130160000\n",
              "16    12983  20201130220000\n",
              "17    24849  20201118220000\n",
              "18    13812  20201104160000\n",
              "19    22757  20201118200000\n",
              "20    10667  20201104160000\n",
              "21    19524  20201130120000\n",
              "22    10734  20201127170000\n",
              "23    17693  20201121220000\n",
              "24    16904  20201102110000\n",
              "25    18567  20201102130000\n",
              "26    23251  20201113190000\n",
              "27    19087  20201102170000\n",
              "28    14197  20201120190000\n",
              "29    23970  20201114010000\n",
              "30    18073  20201124160000\n",
              "31    19860  20201109110000\n",
              "32    18203  20201107120000\n",
              "33    11683  20201116160000\n",
              "34    18527  20201124150000\n",
              "35    23028  20201102120000\n",
              "36    21970  20201127120000\n",
              "37    19899  20201123150000\n",
              "38    14827  20201104130000\n",
              "39    11016  20201126200000\n",
              "40    12820  20201106180000\n",
              "41    12244  20201109210000\n",
              "42    24658  20201126150000\n",
              "43    23781  20201127150000\n",
              "44    23149  20201104130000\n",
              "45    21922  20201121170000\n",
              "46    17285  20201124120000\n",
              "47    18840  20201121150000\n",
              "48    16288  20201116200000\n",
              "49    16634  20201109150000"
            ],
            "text/html": [
              "\n",
              "  <div id=\"df-90332368-b79a-49cf-9009-10041c948202\">\n",
              "    <div class=\"colab-df-container\">\n",
              "      <div>\n",
              "<style scoped>\n",
              "    .dataframe tbody tr th:only-of-type {\n",
              "        vertical-align: middle;\n",
              "    }\n",
              "\n",
              "    .dataframe tbody tr th {\n",
              "        vertical-align: top;\n",
              "    }\n",
              "\n",
              "    .dataframe thead th {\n",
              "        text-align: right;\n",
              "    }\n",
              "</style>\n",
              "<table border=\"1\" class=\"dataframe\">\n",
              "  <thead>\n",
              "    <tr style=\"text-align: right;\">\n",
              "      <th></th>\n",
              "      <th>user_id</th>\n",
              "      <th>time</th>\n",
              "    </tr>\n",
              "  </thead>\n",
              "  <tbody>\n",
              "    <tr>\n",
              "      <th>0</th>\n",
              "      <td>19224</td>\n",
              "      <td>20201102200000</td>\n",
              "    </tr>\n",
              "    <tr>\n",
              "      <th>1</th>\n",
              "      <td>23664</td>\n",
              "      <td>20201116140000</td>\n",
              "    </tr>\n",
              "    <tr>\n",
              "      <th>2</th>\n",
              "      <td>15166</td>\n",
              "      <td>20201114130000</td>\n",
              "    </tr>\n",
              "    <tr>\n",
              "      <th>3</th>\n",
              "      <td>12590</td>\n",
              "      <td>20201108210000</td>\n",
              "    </tr>\n",
              "    <tr>\n",
              "      <th>4</th>\n",
              "      <td>15932</td>\n",
              "      <td>20201103210000</td>\n",
              "    </tr>\n",
              "    <tr>\n",
              "      <th>5</th>\n",
              "      <td>16852</td>\n",
              "      <td>20201119150000</td>\n",
              "    </tr>\n",
              "    <tr>\n",
              "      <th>6</th>\n",
              "      <td>23427</td>\n",
              "      <td>20201121110000</td>\n",
              "    </tr>\n",
              "    <tr>\n",
              "      <th>7</th>\n",
              "      <td>13507</td>\n",
              "      <td>20201111160000</td>\n",
              "    </tr>\n",
              "    <tr>\n",
              "      <th>8</th>\n",
              "      <td>11274</td>\n",
              "      <td>20201118120000</td>\n",
              "    </tr>\n",
              "    <tr>\n",
              "      <th>9</th>\n",
              "      <td>20610</td>\n",
              "      <td>20201127230000</td>\n",
              "    </tr>\n",
              "    <tr>\n",
              "      <th>10</th>\n",
              "      <td>21418</td>\n",
              "      <td>20201117120000</td>\n",
              "    </tr>\n",
              "    <tr>\n",
              "      <th>11</th>\n",
              "      <td>19026</td>\n",
              "      <td>20201129110000</td>\n",
              "    </tr>\n",
              "    <tr>\n",
              "      <th>12</th>\n",
              "      <td>23843</td>\n",
              "      <td>20201119180000</td>\n",
              "    </tr>\n",
              "    <tr>\n",
              "      <th>13</th>\n",
              "      <td>16996</td>\n",
              "      <td>20201112150000</td>\n",
              "    </tr>\n",
              "    <tr>\n",
              "      <th>14</th>\n",
              "      <td>17804</td>\n",
              "      <td>20201116150000</td>\n",
              "    </tr>\n",
              "    <tr>\n",
              "      <th>15</th>\n",
              "      <td>13310</td>\n",
              "      <td>20201130160000</td>\n",
              "    </tr>\n",
              "    <tr>\n",
              "      <th>16</th>\n",
              "      <td>12983</td>\n",
              "      <td>20201130220000</td>\n",
              "    </tr>\n",
              "    <tr>\n",
              "      <th>17</th>\n",
              "      <td>24849</td>\n",
              "      <td>20201118220000</td>\n",
              "    </tr>\n",
              "    <tr>\n",
              "      <th>18</th>\n",
              "      <td>13812</td>\n",
              "      <td>20201104160000</td>\n",
              "    </tr>\n",
              "    <tr>\n",
              "      <th>19</th>\n",
              "      <td>22757</td>\n",
              "      <td>20201118200000</td>\n",
              "    </tr>\n",
              "    <tr>\n",
              "      <th>20</th>\n",
              "      <td>10667</td>\n",
              "      <td>20201104160000</td>\n",
              "    </tr>\n",
              "    <tr>\n",
              "      <th>21</th>\n",
              "      <td>19524</td>\n",
              "      <td>20201130120000</td>\n",
              "    </tr>\n",
              "    <tr>\n",
              "      <th>22</th>\n",
              "      <td>10734</td>\n",
              "      <td>20201127170000</td>\n",
              "    </tr>\n",
              "    <tr>\n",
              "      <th>23</th>\n",
              "      <td>17693</td>\n",
              "      <td>20201121220000</td>\n",
              "    </tr>\n",
              "    <tr>\n",
              "      <th>24</th>\n",
              "      <td>16904</td>\n",
              "      <td>20201102110000</td>\n",
              "    </tr>\n",
              "    <tr>\n",
              "      <th>25</th>\n",
              "      <td>18567</td>\n",
              "      <td>20201102130000</td>\n",
              "    </tr>\n",
              "    <tr>\n",
              "      <th>26</th>\n",
              "      <td>23251</td>\n",
              "      <td>20201113190000</td>\n",
              "    </tr>\n",
              "    <tr>\n",
              "      <th>27</th>\n",
              "      <td>19087</td>\n",
              "      <td>20201102170000</td>\n",
              "    </tr>\n",
              "    <tr>\n",
              "      <th>28</th>\n",
              "      <td>14197</td>\n",
              "      <td>20201120190000</td>\n",
              "    </tr>\n",
              "    <tr>\n",
              "      <th>29</th>\n",
              "      <td>23970</td>\n",
              "      <td>20201114010000</td>\n",
              "    </tr>\n",
              "    <tr>\n",
              "      <th>30</th>\n",
              "      <td>18073</td>\n",
              "      <td>20201124160000</td>\n",
              "    </tr>\n",
              "    <tr>\n",
              "      <th>31</th>\n",
              "      <td>19860</td>\n",
              "      <td>20201109110000</td>\n",
              "    </tr>\n",
              "    <tr>\n",
              "      <th>32</th>\n",
              "      <td>18203</td>\n",
              "      <td>20201107120000</td>\n",
              "    </tr>\n",
              "    <tr>\n",
              "      <th>33</th>\n",
              "      <td>11683</td>\n",
              "      <td>20201116160000</td>\n",
              "    </tr>\n",
              "    <tr>\n",
              "      <th>34</th>\n",
              "      <td>18527</td>\n",
              "      <td>20201124150000</td>\n",
              "    </tr>\n",
              "    <tr>\n",
              "      <th>35</th>\n",
              "      <td>23028</td>\n",
              "      <td>20201102120000</td>\n",
              "    </tr>\n",
              "    <tr>\n",
              "      <th>36</th>\n",
              "      <td>21970</td>\n",
              "      <td>20201127120000</td>\n",
              "    </tr>\n",
              "    <tr>\n",
              "      <th>37</th>\n",
              "      <td>19899</td>\n",
              "      <td>20201123150000</td>\n",
              "    </tr>\n",
              "    <tr>\n",
              "      <th>38</th>\n",
              "      <td>14827</td>\n",
              "      <td>20201104130000</td>\n",
              "    </tr>\n",
              "    <tr>\n",
              "      <th>39</th>\n",
              "      <td>11016</td>\n",
              "      <td>20201126200000</td>\n",
              "    </tr>\n",
              "    <tr>\n",
              "      <th>40</th>\n",
              "      <td>12820</td>\n",
              "      <td>20201106180000</td>\n",
              "    </tr>\n",
              "    <tr>\n",
              "      <th>41</th>\n",
              "      <td>12244</td>\n",
              "      <td>20201109210000</td>\n",
              "    </tr>\n",
              "    <tr>\n",
              "      <th>42</th>\n",
              "      <td>24658</td>\n",
              "      <td>20201126150000</td>\n",
              "    </tr>\n",
              "    <tr>\n",
              "      <th>43</th>\n",
              "      <td>23781</td>\n",
              "      <td>20201127150000</td>\n",
              "    </tr>\n",
              "    <tr>\n",
              "      <th>44</th>\n",
              "      <td>23149</td>\n",
              "      <td>20201104130000</td>\n",
              "    </tr>\n",
              "    <tr>\n",
              "      <th>45</th>\n",
              "      <td>21922</td>\n",
              "      <td>20201121170000</td>\n",
              "    </tr>\n",
              "    <tr>\n",
              "      <th>46</th>\n",
              "      <td>17285</td>\n",
              "      <td>20201124120000</td>\n",
              "    </tr>\n",
              "    <tr>\n",
              "      <th>47</th>\n",
              "      <td>18840</td>\n",
              "      <td>20201121150000</td>\n",
              "    </tr>\n",
              "    <tr>\n",
              "      <th>48</th>\n",
              "      <td>16288</td>\n",
              "      <td>20201116200000</td>\n",
              "    </tr>\n",
              "    <tr>\n",
              "      <th>49</th>\n",
              "      <td>16634</td>\n",
              "      <td>20201109150000</td>\n",
              "    </tr>\n",
              "  </tbody>\n",
              "</table>\n",
              "</div>\n",
              "      <button class=\"colab-df-convert\" onclick=\"convertToInteractive('df-90332368-b79a-49cf-9009-10041c948202')\"\n",
              "              title=\"Convert this dataframe to an interactive table.\"\n",
              "              style=\"display:none;\">\n",
              "        \n",
              "  <svg xmlns=\"http://www.w3.org/2000/svg\" height=\"24px\"viewBox=\"0 0 24 24\"\n",
              "       width=\"24px\">\n",
              "    <path d=\"M0 0h24v24H0V0z\" fill=\"none\"/>\n",
              "    <path d=\"M18.56 5.44l.94 2.06.94-2.06 2.06-.94-2.06-.94-.94-2.06-.94 2.06-2.06.94zm-11 1L8.5 8.5l.94-2.06 2.06-.94-2.06-.94L8.5 2.5l-.94 2.06-2.06.94zm10 10l.94 2.06.94-2.06 2.06-.94-2.06-.94-.94-2.06-.94 2.06-2.06.94z\"/><path d=\"M17.41 7.96l-1.37-1.37c-.4-.4-.92-.59-1.43-.59-.52 0-1.04.2-1.43.59L10.3 9.45l-7.72 7.72c-.78.78-.78 2.05 0 2.83L4 21.41c.39.39.9.59 1.41.59.51 0 1.02-.2 1.41-.59l7.78-7.78 2.81-2.81c.8-.78.8-2.07 0-2.86zM5.41 20L4 18.59l7.72-7.72 1.47 1.35L5.41 20z\"/>\n",
              "  </svg>\n",
              "      </button>\n",
              "      \n",
              "  <style>\n",
              "    .colab-df-container {\n",
              "      display:flex;\n",
              "      flex-wrap:wrap;\n",
              "      gap: 12px;\n",
              "    }\n",
              "\n",
              "    .colab-df-convert {\n",
              "      background-color: #E8F0FE;\n",
              "      border: none;\n",
              "      border-radius: 50%;\n",
              "      cursor: pointer;\n",
              "      display: none;\n",
              "      fill: #1967D2;\n",
              "      height: 32px;\n",
              "      padding: 0 0 0 0;\n",
              "      width: 32px;\n",
              "    }\n",
              "\n",
              "    .colab-df-convert:hover {\n",
              "      background-color: #E2EBFA;\n",
              "      box-shadow: 0px 1px 2px rgba(60, 64, 67, 0.3), 0px 1px 3px 1px rgba(60, 64, 67, 0.15);\n",
              "      fill: #174EA6;\n",
              "    }\n",
              "\n",
              "    [theme=dark] .colab-df-convert {\n",
              "      background-color: #3B4455;\n",
              "      fill: #D2E3FC;\n",
              "    }\n",
              "\n",
              "    [theme=dark] .colab-df-convert:hover {\n",
              "      background-color: #434B5C;\n",
              "      box-shadow: 0px 1px 3px 1px rgba(0, 0, 0, 0.15);\n",
              "      filter: drop-shadow(0px 1px 2px rgba(0, 0, 0, 0.3));\n",
              "      fill: #FFFFFF;\n",
              "    }\n",
              "  </style>\n",
              "\n",
              "      <script>\n",
              "        const buttonEl =\n",
              "          document.querySelector('#df-90332368-b79a-49cf-9009-10041c948202 button.colab-df-convert');\n",
              "        buttonEl.style.display =\n",
              "          google.colab.kernel.accessAllowed ? 'block' : 'none';\n",
              "\n",
              "        async function convertToInteractive(key) {\n",
              "          const element = document.querySelector('#df-90332368-b79a-49cf-9009-10041c948202');\n",
              "          const dataTable =\n",
              "            await google.colab.kernel.invokeFunction('convertToInteractive',\n",
              "                                                     [key], {});\n",
              "          if (!dataTable) return;\n",
              "\n",
              "          const docLinkHtml = 'Like what you see? Visit the ' +\n",
              "            '<a target=\"_blank\" href=https://colab.research.google.com/notebooks/data_table.ipynb>data table notebook</a>'\n",
              "            + ' to learn more about interactive tables.';\n",
              "          element.innerHTML = '';\n",
              "          dataTable['output_type'] = 'display_data';\n",
              "          await google.colab.output.renderOutput(dataTable, element);\n",
              "          const docLink = document.createElement('div');\n",
              "          docLink.innerHTML = docLinkHtml;\n",
              "          element.appendChild(docLink);\n",
              "        }\n",
              "      </script>\n",
              "    </div>\n",
              "  </div>\n",
              "  "
            ]
          },
          "metadata": {},
          "execution_count": 69
        }
      ]
    },
    {
      "cell_type": "code",
      "source": [
        "train_prob.duplicated(user_id=list/none, keep='first'/'last'/False)"
      ],
      "metadata": {
        "colab": {
          "base_uri": "https://localhost:8080/",
          "height": 170
        },
        "id": "tYHNHt6Q3wKU",
        "outputId": "065e5a76-07bd-4255-b9d2-02c4e1c0f429"
      },
      "execution_count": null,
      "outputs": [
        {
          "output_type": "error",
          "ename": "NameError",
          "evalue": "ignored",
          "traceback": [
            "\u001b[0;31m---------------------------------------------------------------------------\u001b[0m",
            "\u001b[0;31mNameError\u001b[0m                                 Traceback (most recent call last)",
            "\u001b[0;32m<ipython-input-57-8133c1200a0e>\u001b[0m in \u001b[0;36m<module>\u001b[0;34m()\u001b[0m\n\u001b[0;32m----> 1\u001b[0;31m \u001b[0mtrain_prob\u001b[0m\u001b[0;34m.\u001b[0m\u001b[0mduplicated\u001b[0m\u001b[0;34m(\u001b[0m\u001b[0muser_id\u001b[0m\u001b[0;34m=\u001b[0m\u001b[0mlist\u001b[0m\u001b[0;34m/\u001b[0m\u001b[0mnone\u001b[0m\u001b[0;34m,\u001b[0m \u001b[0mkeep\u001b[0m\u001b[0;34m=\u001b[0m\u001b[0;34m'first'\u001b[0m\u001b[0;34m/\u001b[0m\u001b[0;34m'last'\u001b[0m\u001b[0;34m/\u001b[0m\u001b[0;32mFalse\u001b[0m\u001b[0;34m)\u001b[0m\u001b[0;34m\u001b[0m\u001b[0;34m\u001b[0m\u001b[0m\n\u001b[0m",
            "\u001b[0;31mNameError\u001b[0m: name 'none' is not defined"
          ]
        }
      ]
    },
    {
      "cell_type": "code",
      "source": [
        "test_err"
      ],
      "metadata": {
        "colab": {
          "base_uri": "https://localhost:8080/",
          "height": 424
        },
        "id": "kEEjEpC8rrKg",
        "outputId": "2f466e98-8a01-4007-a164-8b28ddafc8d2"
      },
      "execution_count": null,
      "outputs": [
        {
          "output_type": "execute_result",
          "data": {
            "text/plain": [
              "          user_id            time model_nm       fwver  errtype errcode\n",
              "0           30000  20201101030227  model_1  04.16.3553       31       1\n",
              "1           30000  20201101030227  model_1  04.16.3553       33       2\n",
              "2           30000  20201101030228  model_1  04.16.3553       15       1\n",
              "3           30000  20201101030256  model_1  04.16.3553       22       1\n",
              "4           30000  20201101030300  model_1  04.16.3553       11       1\n",
              "...           ...             ...      ...         ...      ...     ...\n",
              "16532643    44998  20201130210050  model_1  04.16.3553       40       0\n",
              "16532644    44998  20201130211831  model_1  04.16.3553       31       1\n",
              "16532645    44998  20201130211832  model_1  04.16.3553       15       1\n",
              "16532646    44998  20201130212259  model_1  04.16.3553       16       1\n",
              "16532647    44998  20201130212316  model_1  04.16.3553       31       0\n",
              "\n",
              "[16532648 rows x 6 columns]"
            ],
            "text/html": [
              "\n",
              "  <div id=\"df-c77ca347-45f0-4b3f-b082-772581cd80ee\">\n",
              "    <div class=\"colab-df-container\">\n",
              "      <div>\n",
              "<style scoped>\n",
              "    .dataframe tbody tr th:only-of-type {\n",
              "        vertical-align: middle;\n",
              "    }\n",
              "\n",
              "    .dataframe tbody tr th {\n",
              "        vertical-align: top;\n",
              "    }\n",
              "\n",
              "    .dataframe thead th {\n",
              "        text-align: right;\n",
              "    }\n",
              "</style>\n",
              "<table border=\"1\" class=\"dataframe\">\n",
              "  <thead>\n",
              "    <tr style=\"text-align: right;\">\n",
              "      <th></th>\n",
              "      <th>user_id</th>\n",
              "      <th>time</th>\n",
              "      <th>model_nm</th>\n",
              "      <th>fwver</th>\n",
              "      <th>errtype</th>\n",
              "      <th>errcode</th>\n",
              "    </tr>\n",
              "  </thead>\n",
              "  <tbody>\n",
              "    <tr>\n",
              "      <th>0</th>\n",
              "      <td>30000</td>\n",
              "      <td>20201101030227</td>\n",
              "      <td>model_1</td>\n",
              "      <td>04.16.3553</td>\n",
              "      <td>31</td>\n",
              "      <td>1</td>\n",
              "    </tr>\n",
              "    <tr>\n",
              "      <th>1</th>\n",
              "      <td>30000</td>\n",
              "      <td>20201101030227</td>\n",
              "      <td>model_1</td>\n",
              "      <td>04.16.3553</td>\n",
              "      <td>33</td>\n",
              "      <td>2</td>\n",
              "    </tr>\n",
              "    <tr>\n",
              "      <th>2</th>\n",
              "      <td>30000</td>\n",
              "      <td>20201101030228</td>\n",
              "      <td>model_1</td>\n",
              "      <td>04.16.3553</td>\n",
              "      <td>15</td>\n",
              "      <td>1</td>\n",
              "    </tr>\n",
              "    <tr>\n",
              "      <th>3</th>\n",
              "      <td>30000</td>\n",
              "      <td>20201101030256</td>\n",
              "      <td>model_1</td>\n",
              "      <td>04.16.3553</td>\n",
              "      <td>22</td>\n",
              "      <td>1</td>\n",
              "    </tr>\n",
              "    <tr>\n",
              "      <th>4</th>\n",
              "      <td>30000</td>\n",
              "      <td>20201101030300</td>\n",
              "      <td>model_1</td>\n",
              "      <td>04.16.3553</td>\n",
              "      <td>11</td>\n",
              "      <td>1</td>\n",
              "    </tr>\n",
              "    <tr>\n",
              "      <th>...</th>\n",
              "      <td>...</td>\n",
              "      <td>...</td>\n",
              "      <td>...</td>\n",
              "      <td>...</td>\n",
              "      <td>...</td>\n",
              "      <td>...</td>\n",
              "    </tr>\n",
              "    <tr>\n",
              "      <th>16532643</th>\n",
              "      <td>44998</td>\n",
              "      <td>20201130210050</td>\n",
              "      <td>model_1</td>\n",
              "      <td>04.16.3553</td>\n",
              "      <td>40</td>\n",
              "      <td>0</td>\n",
              "    </tr>\n",
              "    <tr>\n",
              "      <th>16532644</th>\n",
              "      <td>44998</td>\n",
              "      <td>20201130211831</td>\n",
              "      <td>model_1</td>\n",
              "      <td>04.16.3553</td>\n",
              "      <td>31</td>\n",
              "      <td>1</td>\n",
              "    </tr>\n",
              "    <tr>\n",
              "      <th>16532645</th>\n",
              "      <td>44998</td>\n",
              "      <td>20201130211832</td>\n",
              "      <td>model_1</td>\n",
              "      <td>04.16.3553</td>\n",
              "      <td>15</td>\n",
              "      <td>1</td>\n",
              "    </tr>\n",
              "    <tr>\n",
              "      <th>16532646</th>\n",
              "      <td>44998</td>\n",
              "      <td>20201130212259</td>\n",
              "      <td>model_1</td>\n",
              "      <td>04.16.3553</td>\n",
              "      <td>16</td>\n",
              "      <td>1</td>\n",
              "    </tr>\n",
              "    <tr>\n",
              "      <th>16532647</th>\n",
              "      <td>44998</td>\n",
              "      <td>20201130212316</td>\n",
              "      <td>model_1</td>\n",
              "      <td>04.16.3553</td>\n",
              "      <td>31</td>\n",
              "      <td>0</td>\n",
              "    </tr>\n",
              "  </tbody>\n",
              "</table>\n",
              "<p>16532648 rows × 6 columns</p>\n",
              "</div>\n",
              "      <button class=\"colab-df-convert\" onclick=\"convertToInteractive('df-c77ca347-45f0-4b3f-b082-772581cd80ee')\"\n",
              "              title=\"Convert this dataframe to an interactive table.\"\n",
              "              style=\"display:none;\">\n",
              "        \n",
              "  <svg xmlns=\"http://www.w3.org/2000/svg\" height=\"24px\"viewBox=\"0 0 24 24\"\n",
              "       width=\"24px\">\n",
              "    <path d=\"M0 0h24v24H0V0z\" fill=\"none\"/>\n",
              "    <path d=\"M18.56 5.44l.94 2.06.94-2.06 2.06-.94-2.06-.94-.94-2.06-.94 2.06-2.06.94zm-11 1L8.5 8.5l.94-2.06 2.06-.94-2.06-.94L8.5 2.5l-.94 2.06-2.06.94zm10 10l.94 2.06.94-2.06 2.06-.94-2.06-.94-.94-2.06-.94 2.06-2.06.94z\"/><path d=\"M17.41 7.96l-1.37-1.37c-.4-.4-.92-.59-1.43-.59-.52 0-1.04.2-1.43.59L10.3 9.45l-7.72 7.72c-.78.78-.78 2.05 0 2.83L4 21.41c.39.39.9.59 1.41.59.51 0 1.02-.2 1.41-.59l7.78-7.78 2.81-2.81c.8-.78.8-2.07 0-2.86zM5.41 20L4 18.59l7.72-7.72 1.47 1.35L5.41 20z\"/>\n",
              "  </svg>\n",
              "      </button>\n",
              "      \n",
              "  <style>\n",
              "    .colab-df-container {\n",
              "      display:flex;\n",
              "      flex-wrap:wrap;\n",
              "      gap: 12px;\n",
              "    }\n",
              "\n",
              "    .colab-df-convert {\n",
              "      background-color: #E8F0FE;\n",
              "      border: none;\n",
              "      border-radius: 50%;\n",
              "      cursor: pointer;\n",
              "      display: none;\n",
              "      fill: #1967D2;\n",
              "      height: 32px;\n",
              "      padding: 0 0 0 0;\n",
              "      width: 32px;\n",
              "    }\n",
              "\n",
              "    .colab-df-convert:hover {\n",
              "      background-color: #E2EBFA;\n",
              "      box-shadow: 0px 1px 2px rgba(60, 64, 67, 0.3), 0px 1px 3px 1px rgba(60, 64, 67, 0.15);\n",
              "      fill: #174EA6;\n",
              "    }\n",
              "\n",
              "    [theme=dark] .colab-df-convert {\n",
              "      background-color: #3B4455;\n",
              "      fill: #D2E3FC;\n",
              "    }\n",
              "\n",
              "    [theme=dark] .colab-df-convert:hover {\n",
              "      background-color: #434B5C;\n",
              "      box-shadow: 0px 1px 3px 1px rgba(0, 0, 0, 0.15);\n",
              "      filter: drop-shadow(0px 1px 2px rgba(0, 0, 0, 0.3));\n",
              "      fill: #FFFFFF;\n",
              "    }\n",
              "  </style>\n",
              "\n",
              "      <script>\n",
              "        const buttonEl =\n",
              "          document.querySelector('#df-c77ca347-45f0-4b3f-b082-772581cd80ee button.colab-df-convert');\n",
              "        buttonEl.style.display =\n",
              "          google.colab.kernel.accessAllowed ? 'block' : 'none';\n",
              "\n",
              "        async function convertToInteractive(key) {\n",
              "          const element = document.querySelector('#df-c77ca347-45f0-4b3f-b082-772581cd80ee');\n",
              "          const dataTable =\n",
              "            await google.colab.kernel.invokeFunction('convertToInteractive',\n",
              "                                                     [key], {});\n",
              "          if (!dataTable) return;\n",
              "\n",
              "          const docLinkHtml = 'Like what you see? Visit the ' +\n",
              "            '<a target=\"_blank\" href=https://colab.research.google.com/notebooks/data_table.ipynb>data table notebook</a>'\n",
              "            + ' to learn more about interactive tables.';\n",
              "          element.innerHTML = '';\n",
              "          dataTable['output_type'] = 'display_data';\n",
              "          await google.colab.output.renderOutput(dataTable, element);\n",
              "          const docLink = document.createElement('div');\n",
              "          docLink.innerHTML = docLinkHtml;\n",
              "          element.appendChild(docLink);\n",
              "        }\n",
              "      </script>\n",
              "    </div>\n",
              "  </div>\n",
              "  "
            ]
          },
          "metadata": {},
          "execution_count": 21
        }
      ]
    },
    {
      "cell_type": "code",
      "source": [
        "print(train_qual.columns)"
      ],
      "metadata": {
        "colab": {
          "base_uri": "https://localhost:8080/"
        },
        "id": "EmDo1RMlsHuR",
        "outputId": "bb88d675-21f5-442f-b4c5-e6be1cf3179d"
      },
      "execution_count": null,
      "outputs": [
        {
          "output_type": "stream",
          "name": "stdout",
          "text": [
            "Index(['time', 'user_id', 'fwver', 'quality_0', 'quality_1', 'quality_2',\n",
            "       'quality_3', 'quality_4', 'quality_5', 'quality_6', 'quality_7',\n",
            "       'quality_8', 'quality_9', 'quality_10', 'quality_11', 'quality_12'],\n",
            "      dtype='object')\n"
          ]
        }
      ]
    },
    {
      "cell_type": "code",
      "source": [
        "print(train_prob.columns)"
      ],
      "metadata": {
        "colab": {
          "base_uri": "https://localhost:8080/"
        },
        "id": "o0gc6b0Rsyub",
        "outputId": "8186a7a9-00fd-4bc5-c2e2-b7d079bd8f7d"
      },
      "execution_count": null,
      "outputs": [
        {
          "output_type": "stream",
          "name": "stdout",
          "text": [
            "Index(['user_id', 'time'], dtype='object')\n"
          ]
        }
      ]
    },
    {
      "cell_type": "code",
      "source": [
        "print(train_err.columns)"
      ],
      "metadata": {
        "colab": {
          "base_uri": "https://localhost:8080/"
        },
        "id": "04bvd658sy-l",
        "outputId": "70bbd266-9c71-4808-9b27-3e67d55c3676"
      },
      "execution_count": null,
      "outputs": [
        {
          "output_type": "stream",
          "name": "stdout",
          "text": [
            "Index(['user_id', 'time', 'model_nm', 'fwver', 'errtype', 'errcode'], dtype='object')\n"
          ]
        }
      ]
    },
    {
      "cell_type": "code",
      "source": [
        "ㅔ"
      ],
      "metadata": {
        "id": "hGSPkIpDszC9"
      },
      "execution_count": null,
      "outputs": []
    },
    {
      "cell_type": "code",
      "source": [
        ""
      ],
      "metadata": {
        "id": "cSjUimdNszG0"
      },
      "execution_count": null,
      "outputs": []
    },
    {
      "cell_type": "code",
      "source": [
        ""
      ],
      "metadata": {
        "id": "-hyz21WhszKU"
      },
      "execution_count": null,
      "outputs": []
    },
    {
      "cell_type": "code",
      "source": [
        ""
      ],
      "metadata": {
        "id": "a3F1ZqSMszN0"
      },
      "execution_count": null,
      "outputs": []
    },
    {
      "cell_type": "code",
      "source": [
        ""
      ],
      "metadata": {
        "id": "cL5Eaor3szRL"
      },
      "execution_count": null,
      "outputs": []
    },
    {
      "cell_type": "code",
      "source": [
        ""
      ],
      "metadata": {
        "id": "ahqLbjp6szUt"
      },
      "execution_count": null,
      "outputs": []
    },
    {
      "cell_type": "code",
      "source": [
        ""
      ],
      "metadata": {
        "id": "vNWCdYgZszYC"
      },
      "execution_count": null,
      "outputs": []
    },
    {
      "cell_type": "code",
      "source": [
        ""
      ],
      "metadata": {
        "id": "fyil5VtWszbj"
      },
      "execution_count": null,
      "outputs": []
    },
    {
      "cell_type": "code",
      "source": [
        ""
      ],
      "metadata": {
        "id": "J3bkdeQGszei"
      },
      "execution_count": null,
      "outputs": []
    },
    {
      "cell_type": "code",
      "source": [
        ""
      ],
      "metadata": {
        "id": "RHEtP9oFszhW"
      },
      "execution_count": null,
      "outputs": []
    },
    {
      "cell_type": "code",
      "source": [
        ""
      ],
      "metadata": {
        "id": "eAy3Tc3_szkI"
      },
      "execution_count": null,
      "outputs": []
    },
    {
      "cell_type": "code",
      "source": [
        ""
      ],
      "metadata": {
        "id": "0L4iWJQssznP"
      },
      "execution_count": null,
      "outputs": []
    },
    {
      "cell_type": "code",
      "source": [
        ""
      ],
      "metadata": {
        "id": "o9FK0ILwszp0"
      },
      "execution_count": null,
      "outputs": []
    },
    {
      "cell_type": "code",
      "source": [
        ""
      ],
      "metadata": {
        "id": "hYBnZRWsszsl"
      },
      "execution_count": null,
      "outputs": []
    }
  ]
}